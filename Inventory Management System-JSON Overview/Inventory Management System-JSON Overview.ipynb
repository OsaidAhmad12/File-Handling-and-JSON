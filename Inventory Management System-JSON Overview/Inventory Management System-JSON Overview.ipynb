{
 "cells": [
  {
   "cell_type": "code",
   "execution_count": 17,
   "id": "449530ed-a4c0-4d14-b3a6-5d7c00019b25",
   "metadata": {},
   "outputs": [],
   "source": [
    "record={1001:{\"Name\":\"5 Star\"        ,\"Price\":10,\"Qn\":200},\n",
    "        1002:{\"Name\":\"Bar-One\"       ,\"Price\":20,\"Qn\":100},\n",
    "        1003:{\"Name\":\"Candy\"         ,\"Price\":2,\"Qn\":1000},\n",
    "        1004:{\"Name\":\"Chocolate Cake\",\"Price\":550,\"Qn\":8},\n",
    "        1005:{\"Name\":\"Blueberry Cake\",\"Price\":650,\"Qn\":5}}"
   ]
  },
  {
   "cell_type": "code",
   "execution_count": 19,
   "id": "33c8f450-05b1-48d7-b817-cb10c718cb97",
   "metadata": {},
   "outputs": [
    {
     "data": {
      "text/plain": [
       "{1001: {'Name': '5 Star', 'Price': 10, 'Qn': 200},\n",
       " 1002: {'Name': 'Bar-One', 'Price': 20, 'Qn': 100},\n",
       " 1003: {'Name': 'Candy', 'Price': 2, 'Qn': 1000},\n",
       " 1004: {'Name': 'Chocolate Cake', 'Price': 550, 'Qn': 8},\n",
       " 1005: {'Name': 'Blueberry Cake', 'Price': 650, 'Qn': 5}}"
      ]
     },
     "execution_count": 19,
     "metadata": {},
     "output_type": "execute_result"
    }
   ],
   "source": [
    "record"
   ]
  },
  {
   "cell_type": "code",
   "execution_count": 21,
   "id": "66b03715-2f05-4bad-8fc1-6d6abcb8339e",
   "metadata": {},
   "outputs": [
    {
     "name": "stdout",
     "output_type": "stream",
     "text": [
      "{1001: {'Name': '5 Star', 'Price': 10, 'Qn': 200}, 1002: {'Name': 'Bar-One', 'Price': 20, 'Qn': 100}, 1003: {'Name': 'Candy', 'Price': 2, 'Qn': 1000}, 1004: {'Name': 'Chocolate Cake', 'Price': 550, 'Qn': 8}, 1005: {'Name': 'Blueberry Cake', 'Price': 650, 'Qn': 5}}\n"
     ]
    }
   ],
   "source": [
    "print(record)"
   ]
  },
  {
   "cell_type": "code",
   "execution_count": 31,
   "id": "8479320d-dc94-4a88-b7c5-162a6715742e",
   "metadata": {},
   "outputs": [
    {
     "data": {
      "text/plain": [
       "200"
      ]
     },
     "execution_count": 31,
     "metadata": {},
     "output_type": "execute_result"
    }
   ],
   "source": [
    "record[1001][\"Qn\"]"
   ]
  }
 ],
 "metadata": {
  "kernelspec": {
   "display_name": "Python 3 (ipykernel)",
   "language": "python",
   "name": "python3"
  },
  "language_info": {
   "codemirror_mode": {
    "name": "ipython",
    "version": 3
   },
   "file_extension": ".py",
   "mimetype": "text/x-python",
   "name": "python",
   "nbconvert_exporter": "python",
   "pygments_lexer": "ipython3",
   "version": "3.12.4"
  }
 },
 "nbformat": 4,
 "nbformat_minor": 5
}
